{
 "cells": [
  {
   "cell_type": "code",
   "execution_count": 1,
   "id": "2298e95a",
   "metadata": {},
   "outputs": [],
   "source": [
    "import pandas as pd\n",
    "import matplotlib.pyplot as plt"
   ]
  },
  {
   "cell_type": "code",
   "execution_count": 2,
   "id": "6d6684db",
   "metadata": {},
   "outputs": [],
   "source": [
    "#carregando base CSV\n",
    "df = pd.read_csv('basev3.csv', sep=',', encoding='latin-1', dtype='unicode')"
   ]
  },
  {
   "cell_type": "code",
   "execution_count": 3,
   "id": "3aa8f32b",
   "metadata": {},
   "outputs": [
    {
     "data": {
      "text/html": [
       "<div>\n",
       "<style scoped>\n",
       "    .dataframe tbody tr th:only-of-type {\n",
       "        vertical-align: middle;\n",
       "    }\n",
       "\n",
       "    .dataframe tbody tr th {\n",
       "        vertical-align: top;\n",
       "    }\n",
       "\n",
       "    .dataframe thead th {\n",
       "        text-align: right;\n",
       "    }\n",
       "</style>\n",
       "<table border=\"1\" class=\"dataframe\">\n",
       "  <thead>\n",
       "    <tr style=\"text-align: right;\">\n",
       "      <th></th>\n",
       "      <th>ATENDIMENTO_ANO</th>\n",
       "      <th>ATENDIMENTO_BAIRRO_NOME</th>\n",
       "      <th>EQUIPAMENTO_URBANO_NOME</th>\n",
       "      <th>FLAG_EQUIPAMENTO_URBANO</th>\n",
       "      <th>FLAG_FLAGRANTE</th>\n",
       "      <th>LOGRADOURO_NOME</th>\n",
       "      <th>NATUREZA1_DEFESA_CIVIL</th>\n",
       "      <th>NATUREZA1_DESCRICAO</th>\n",
       "      <th>NATUREZA2_DEFESA_CIVIL</th>\n",
       "      <th>NATUREZA2_DESCRICAO</th>\n",
       "      <th>...</th>\n",
       "      <th>OCORRENCIA_HORA</th>\n",
       "      <th>OCORRENCIA_MES</th>\n",
       "      <th>OPERACAO_DESCRICAO</th>\n",
       "      <th>ORIGEM_CHAMADO_DESCRICAO</th>\n",
       "      <th>REGIONAL_FATO_NOME</th>\n",
       "      <th>SECRETARIA_NOME</th>\n",
       "      <th>SECRETARIA_SIGLA</th>\n",
       "      <th>SERVICO_NOME</th>\n",
       "      <th>SITUACAO_EQUIPE_DESCRICAO</th>\n",
       "      <th>NUMERO_PROTOCOLO_156</th>\n",
       "    </tr>\n",
       "  </thead>\n",
       "  <tbody>\n",
       "    <tr>\n",
       "      <th>0</th>\n",
       "      <td>2009</td>\n",
       "      <td>CIDADE INDUSTRIAL</td>\n",
       "      <td>NaN</td>\n",
       "      <td>NÃO</td>\n",
       "      <td>NÃO</td>\n",
       "      <td>DAVI XAVIER DA SILVA</td>\n",
       "      <td>0</td>\n",
       "      <td>Alarmes</td>\n",
       "      <td>NaN</td>\n",
       "      <td>NaN</td>\n",
       "      <td>...</td>\n",
       "      <td>15:14:00</td>\n",
       "      <td>1</td>\n",
       "      <td>NaN</td>\n",
       "      <td>NÃO CADASTRAR \"ANTIGO SIGA\"</td>\n",
       "      <td>CIC</td>\n",
       "      <td>FUNDAcÃO DE AcÃO SOCIAL</td>\n",
       "      <td>FAS</td>\n",
       "      <td>SIGA</td>\n",
       "      <td>NaN</td>\n",
       "      <td>NaN</td>\n",
       "    </tr>\n",
       "    <tr>\n",
       "      <th>1</th>\n",
       "      <td>2009</td>\n",
       "      <td>FAZENDINHA</td>\n",
       "      <td>BOSQUE DA FAZENDINHA</td>\n",
       "      <td>SIM</td>\n",
       "      <td>NÃO</td>\n",
       "      <td>CARLOS KLEMTZ</td>\n",
       "      <td>0</td>\n",
       "      <td>Roubo</td>\n",
       "      <td>NaN</td>\n",
       "      <td>NaN</td>\n",
       "      <td>...</td>\n",
       "      <td>15:22:00</td>\n",
       "      <td>1</td>\n",
       "      <td>NaN</td>\n",
       "      <td>153</td>\n",
       "      <td>PORTÃO</td>\n",
       "      <td>SECRETARIA MUNICIPAL MEIO AMBIENTE</td>\n",
       "      <td>SMMA</td>\n",
       "      <td>NORMAL</td>\n",
       "      <td>NaN</td>\n",
       "      <td>NaN</td>\n",
       "    </tr>\n",
       "    <tr>\n",
       "      <th>2</th>\n",
       "      <td>2009</td>\n",
       "      <td>UBERABA</td>\n",
       "      <td>NaN</td>\n",
       "      <td>NÃO</td>\n",
       "      <td>NÃO</td>\n",
       "      <td>DOUTOR JOÃO DE PAULA MOURA BRITO</td>\n",
       "      <td>0</td>\n",
       "      <td>Animais</td>\n",
       "      <td>NaN</td>\n",
       "      <td>NaN</td>\n",
       "      <td>...</td>\n",
       "      <td>15:59:00</td>\n",
       "      <td>1</td>\n",
       "      <td>NaN</td>\n",
       "      <td>156</td>\n",
       "      <td>CAJURU</td>\n",
       "      <td>SECRETARIA MUNICIPAL DA SAÚDE</td>\n",
       "      <td>SMS</td>\n",
       "      <td>SACAF</td>\n",
       "      <td>NaN</td>\n",
       "      <td>2640856</td>\n",
       "    </tr>\n",
       "    <tr>\n",
       "      <th>3</th>\n",
       "      <td>2009</td>\n",
       "      <td>SÍTIO CERCADO</td>\n",
       "      <td>NaN</td>\n",
       "      <td>NÃO</td>\n",
       "      <td>NÃO</td>\n",
       "      <td>EDGARD CAVALCANTI DE ALBUQUERQUE</td>\n",
       "      <td>0</td>\n",
       "      <td>Animais</td>\n",
       "      <td>NaN</td>\n",
       "      <td>NaN</td>\n",
       "      <td>...</td>\n",
       "      <td>16:13:00</td>\n",
       "      <td>1</td>\n",
       "      <td>NaN</td>\n",
       "      <td>156</td>\n",
       "      <td>BAIRRO NOVO</td>\n",
       "      <td>SECRETARIA MUNICIPAL DA SAÚDE</td>\n",
       "      <td>SMS</td>\n",
       "      <td>SACAF</td>\n",
       "      <td>NaN</td>\n",
       "      <td>2640854</td>\n",
       "    </tr>\n",
       "    <tr>\n",
       "      <th>4</th>\n",
       "      <td>2009</td>\n",
       "      <td>TATUQUARA</td>\n",
       "      <td>CENTRO DE ESPORTE E LAZER SANTA RITA</td>\n",
       "      <td>SIM</td>\n",
       "      <td>NÃO</td>\n",
       "      <td>CARLOS MUNHOZ DA ROCHA</td>\n",
       "      <td>0</td>\n",
       "      <td>Alarmes</td>\n",
       "      <td>NaN</td>\n",
       "      <td>NaN</td>\n",
       "      <td>...</td>\n",
       "      <td>16:29:00</td>\n",
       "      <td>1</td>\n",
       "      <td>NaN</td>\n",
       "      <td>NÃO CADASTRAR \"ANTIGO SIGA\"</td>\n",
       "      <td>PINHEIRINHO</td>\n",
       "      <td>FUNDAcÃO DE AcÃO SOCIAL</td>\n",
       "      <td>FAS</td>\n",
       "      <td>SIGA</td>\n",
       "      <td>NaN</td>\n",
       "      <td>NaN</td>\n",
       "    </tr>\n",
       "  </tbody>\n",
       "</table>\n",
       "<p>5 rows × 35 columns</p>\n",
       "</div>"
      ],
      "text/plain": [
       "  ATENDIMENTO_ANO ATENDIMENTO_BAIRRO_NOME  \\\n",
       "0            2009       CIDADE INDUSTRIAL   \n",
       "1            2009              FAZENDINHA   \n",
       "2            2009                 UBERABA   \n",
       "3            2009           SÍTIO CERCADO   \n",
       "4            2009               TATUQUARA   \n",
       "\n",
       "                EQUIPAMENTO_URBANO_NOME FLAG_EQUIPAMENTO_URBANO  \\\n",
       "0                                   NaN                     NÃO   \n",
       "1                  BOSQUE DA FAZENDINHA                     SIM   \n",
       "2                                   NaN                     NÃO   \n",
       "3                                   NaN                     NÃO   \n",
       "4  CENTRO DE ESPORTE E LAZER SANTA RITA                     SIM   \n",
       "\n",
       "  FLAG_FLAGRANTE                   LOGRADOURO_NOME NATUREZA1_DEFESA_CIVIL  \\\n",
       "0            NÃO              DAVI XAVIER DA SILVA                      0   \n",
       "1            NÃO                     CARLOS KLEMTZ                      0   \n",
       "2            NÃO  DOUTOR JOÃO DE PAULA MOURA BRITO                      0   \n",
       "3            NÃO  EDGARD CAVALCANTI DE ALBUQUERQUE                      0   \n",
       "4            NÃO            CARLOS MUNHOZ DA ROCHA                      0   \n",
       "\n",
       "  NATUREZA1_DESCRICAO NATUREZA2_DEFESA_CIVIL NATUREZA2_DESCRICAO  ...  \\\n",
       "0             Alarmes                    NaN                 NaN  ...   \n",
       "1               Roubo                    NaN                 NaN  ...   \n",
       "2             Animais                    NaN                 NaN  ...   \n",
       "3             Animais                    NaN                 NaN  ...   \n",
       "4             Alarmes                    NaN                 NaN  ...   \n",
       "\n",
       "  OCORRENCIA_HORA OCORRENCIA_MES OPERACAO_DESCRICAO  \\\n",
       "0        15:14:00              1                NaN   \n",
       "1        15:22:00              1                NaN   \n",
       "2        15:59:00              1                NaN   \n",
       "3        16:13:00              1                NaN   \n",
       "4        16:29:00              1                NaN   \n",
       "\n",
       "      ORIGEM_CHAMADO_DESCRICAO REGIONAL_FATO_NOME  \\\n",
       "0  NÃO CADASTRAR \"ANTIGO SIGA\"                CIC   \n",
       "1                          153             PORTÃO   \n",
       "2                          156             CAJURU   \n",
       "3                          156        BAIRRO NOVO   \n",
       "4  NÃO CADASTRAR \"ANTIGO SIGA\"        PINHEIRINHO   \n",
       "\n",
       "                      SECRETARIA_NOME SECRETARIA_SIGLA SERVICO_NOME  \\\n",
       "0             FUNDAcÃO DE AcÃO SOCIAL              FAS         SIGA   \n",
       "1  SECRETARIA MUNICIPAL MEIO AMBIENTE             SMMA       NORMAL   \n",
       "2       SECRETARIA MUNICIPAL DA SAÚDE              SMS        SACAF   \n",
       "3       SECRETARIA MUNICIPAL DA SAÚDE              SMS        SACAF   \n",
       "4             FUNDAcÃO DE AcÃO SOCIAL              FAS         SIGA   \n",
       "\n",
       "  SITUACAO_EQUIPE_DESCRICAO NUMERO_PROTOCOLO_156  \n",
       "0                       NaN                  NaN  \n",
       "1                       NaN                  NaN  \n",
       "2                       NaN              2640856  \n",
       "3                       NaN              2640854  \n",
       "4                       NaN                  NaN  \n",
       "\n",
       "[5 rows x 35 columns]"
      ]
     },
     "execution_count": 3,
     "metadata": {},
     "output_type": "execute_result"
    }
   ],
   "source": [
    "df.head()"
   ]
  },
  {
   "cell_type": "code",
   "execution_count": 4,
   "id": "9342ea3c",
   "metadata": {},
   "outputs": [
    {
     "data": {
      "text/plain": [
       "(406978, 35)"
      ]
     },
     "execution_count": 4,
     "metadata": {},
     "output_type": "execute_result"
    }
   ],
   "source": [
    "df.shape"
   ]
  },
  {
   "cell_type": "code",
   "execution_count": 5,
   "id": "4ad83744",
   "metadata": {},
   "outputs": [
    {
     "data": {
      "text/html": [
       "<div>\n",
       "<style scoped>\n",
       "    .dataframe tbody tr th:only-of-type {\n",
       "        vertical-align: middle;\n",
       "    }\n",
       "\n",
       "    .dataframe tbody tr th {\n",
       "        vertical-align: top;\n",
       "    }\n",
       "\n",
       "    .dataframe thead th {\n",
       "        text-align: right;\n",
       "    }\n",
       "</style>\n",
       "<table border=\"1\" class=\"dataframe\">\n",
       "  <thead>\n",
       "    <tr style=\"text-align: right;\">\n",
       "      <th></th>\n",
       "      <th>ATENDIMENTO_ANO</th>\n",
       "      <th>ATENDIMENTO_BAIRRO_NOME</th>\n",
       "      <th>EQUIPAMENTO_URBANO_NOME</th>\n",
       "      <th>FLAG_EQUIPAMENTO_URBANO</th>\n",
       "      <th>FLAG_FLAGRANTE</th>\n",
       "      <th>LOGRADOURO_NOME</th>\n",
       "      <th>NATUREZA1_DEFESA_CIVIL</th>\n",
       "      <th>NATUREZA1_DESCRICAO</th>\n",
       "      <th>NATUREZA2_DEFESA_CIVIL</th>\n",
       "      <th>NATUREZA2_DESCRICAO</th>\n",
       "      <th>...</th>\n",
       "      <th>OCORRENCIA_HORA</th>\n",
       "      <th>OCORRENCIA_MES</th>\n",
       "      <th>OPERACAO_DESCRICAO</th>\n",
       "      <th>ORIGEM_CHAMADO_DESCRICAO</th>\n",
       "      <th>REGIONAL_FATO_NOME</th>\n",
       "      <th>SECRETARIA_NOME</th>\n",
       "      <th>SECRETARIA_SIGLA</th>\n",
       "      <th>SERVICO_NOME</th>\n",
       "      <th>SITUACAO_EQUIPE_DESCRICAO</th>\n",
       "      <th>NUMERO_PROTOCOLO_156</th>\n",
       "    </tr>\n",
       "  </thead>\n",
       "  <tbody>\n",
       "    <tr>\n",
       "      <th>270245</th>\n",
       "      <td>2020</td>\n",
       "      <td>CENTRO</td>\n",
       "      <td>NaN</td>\n",
       "      <td>NÃO</td>\n",
       "      <td>NÃO</td>\n",
       "      <td>PRESIDENTE FARIA</td>\n",
       "      <td>0</td>\n",
       "      <td>Violacão de Medida Protetiva Lei Maria da Penha</td>\n",
       "      <td>NaN</td>\n",
       "      <td>NaN</td>\n",
       "      <td>...</td>\n",
       "      <td>23:40:00</td>\n",
       "      <td>2</td>\n",
       "      <td>NORMAL</td>\n",
       "      <td>IMEDIATA</td>\n",
       "      <td>MATRIZ</td>\n",
       "      <td>SECRETARIA MUNICIPAL DE DEFESA SOCIAL E TRANSITO</td>\n",
       "      <td>SMDT</td>\n",
       "      <td>PATRULHA MARIA DA PENHA</td>\n",
       "      <td>Solicitacão</td>\n",
       "      <td>NaN</td>\n",
       "    </tr>\n",
       "    <tr>\n",
       "      <th>24383</th>\n",
       "      <td>2009</td>\n",
       "      <td>SÍTIO CERCADO</td>\n",
       "      <td>NaN</td>\n",
       "      <td>NÃO</td>\n",
       "      <td>NÃO</td>\n",
       "      <td>TIJUCAS DO SUL</td>\n",
       "      <td>0</td>\n",
       "      <td>Alarmes</td>\n",
       "      <td>NaN</td>\n",
       "      <td>NaN</td>\n",
       "      <td>...</td>\n",
       "      <td>23:05:00</td>\n",
       "      <td>12</td>\n",
       "      <td>NaN</td>\n",
       "      <td>NÃO CADASTRAR \"ANTIGO SIGA\"</td>\n",
       "      <td>BAIRRO NOVO</td>\n",
       "      <td>FUNDAcÃO DE AcÃO SOCIAL</td>\n",
       "      <td>FAS</td>\n",
       "      <td>SIGA</td>\n",
       "      <td>NaN</td>\n",
       "      <td>NaN</td>\n",
       "    </tr>\n",
       "    <tr>\n",
       "      <th>44502</th>\n",
       "      <td>2010</td>\n",
       "      <td>XAXIM</td>\n",
       "      <td>NaN</td>\n",
       "      <td>NÃO</td>\n",
       "      <td>NÃO</td>\n",
       "      <td>PEDRO WIELER</td>\n",
       "      <td>0</td>\n",
       "      <td>Animais</td>\n",
       "      <td>NaN</td>\n",
       "      <td>NaN</td>\n",
       "      <td>...</td>\n",
       "      <td>08:42:00</td>\n",
       "      <td>11</td>\n",
       "      <td>NaN</td>\n",
       "      <td>156</td>\n",
       "      <td>BOQUEIRÃO</td>\n",
       "      <td>SECRETARIA MUNICIPAL DA SAÚDE</td>\n",
       "      <td>SMS</td>\n",
       "      <td>NORMAL</td>\n",
       "      <td>NaN</td>\n",
       "      <td>3531839</td>\n",
       "    </tr>\n",
       "    <tr>\n",
       "      <th>193363</th>\n",
       "      <td>2017</td>\n",
       "      <td>ÁGUA VERDE</td>\n",
       "      <td>NaN</td>\n",
       "      <td>NÃO</td>\n",
       "      <td>NÃO</td>\n",
       "      <td>BRIGADEIRO FRANCO</td>\n",
       "      <td>0</td>\n",
       "      <td>Tentativa</td>\n",
       "      <td>0</td>\n",
       "      <td>Apoio</td>\n",
       "      <td>...</td>\n",
       "      <td>17:30:00</td>\n",
       "      <td>5</td>\n",
       "      <td>NORMAL</td>\n",
       "      <td>FONE</td>\n",
       "      <td>PORTÃO</td>\n",
       "      <td>SECRETARIA MUNICIPAL DE DEFESA SOCIAL E TRANSITO</td>\n",
       "      <td>SMDT</td>\n",
       "      <td>GOE</td>\n",
       "      <td>Solicitacão</td>\n",
       "      <td>NaN</td>\n",
       "    </tr>\n",
       "    <tr>\n",
       "      <th>373556</th>\n",
       "      <td>2021</td>\n",
       "      <td>CENTRO</td>\n",
       "      <td>NaN</td>\n",
       "      <td>NÃO</td>\n",
       "      <td>NÃO</td>\n",
       "      <td>NESTOR DE CASTRO</td>\n",
       "      <td>0</td>\n",
       "      <td>Atitude Suspeita (Abordagem)</td>\n",
       "      <td>NaN</td>\n",
       "      <td>NaN</td>\n",
       "      <td>...</td>\n",
       "      <td>10:30:00</td>\n",
       "      <td>10</td>\n",
       "      <td>NORMAL</td>\n",
       "      <td>IMEDIATA</td>\n",
       "      <td>MATRIZ</td>\n",
       "      <td>SECRETARIA MUNICIPAL DE DEFESA SOCIAL E TRANSITO</td>\n",
       "      <td>SMDT</td>\n",
       "      <td>GPEO</td>\n",
       "      <td>Solicitacão</td>\n",
       "      <td>NaN</td>\n",
       "    </tr>\n",
       "    <tr>\n",
       "      <th>65970</th>\n",
       "      <td>2011</td>\n",
       "      <td>CAMPO DE SANTANA</td>\n",
       "      <td>CENTRO MUNICIPAL DE EDUCAcÃO INFANTIL DONA BERTHA</td>\n",
       "      <td>SIM</td>\n",
       "      <td>NÃO</td>\n",
       "      <td>PIA LAZZARI BERTOLDI</td>\n",
       "      <td>0</td>\n",
       "      <td>Dano</td>\n",
       "      <td>NaN</td>\n",
       "      <td>NaN</td>\n",
       "      <td>...</td>\n",
       "      <td>19:20:00</td>\n",
       "      <td>11</td>\n",
       "      <td>NaN</td>\n",
       "      <td>153</td>\n",
       "      <td>PINHEIRINHO</td>\n",
       "      <td>SECRETARIA MUNICIPAL DA EDUCAcÃO</td>\n",
       "      <td>SME</td>\n",
       "      <td>NORMAL</td>\n",
       "      <td>NaN</td>\n",
       "      <td>NaN</td>\n",
       "    </tr>\n",
       "    <tr>\n",
       "      <th>166752</th>\n",
       "      <td>2016</td>\n",
       "      <td>TABOÃO</td>\n",
       "      <td>PARQUE TANGUÁ</td>\n",
       "      <td>SIM</td>\n",
       "      <td>NÃO</td>\n",
       "      <td>OSWALDO MACIEL</td>\n",
       "      <td>0</td>\n",
       "      <td>Veículo</td>\n",
       "      <td>NaN</td>\n",
       "      <td>NaN</td>\n",
       "      <td>...</td>\n",
       "      <td>08:41:00</td>\n",
       "      <td>2</td>\n",
       "      <td>NORMAL</td>\n",
       "      <td>IMEDIATA</td>\n",
       "      <td>BOA VISTA</td>\n",
       "      <td>SECRETARIA MUNICIPAL DE DEFESA SOCIAL E TRANSITO</td>\n",
       "      <td>SMDT</td>\n",
       "      <td>NORMAL</td>\n",
       "      <td>Solicitacão</td>\n",
       "      <td>NaN</td>\n",
       "    </tr>\n",
       "    <tr>\n",
       "      <th>169494</th>\n",
       "      <td>2016</td>\n",
       "      <td>SANTO INÁCIO</td>\n",
       "      <td>PARQUE BARIGUI</td>\n",
       "      <td>SIM</td>\n",
       "      <td>NÃO</td>\n",
       "      <td>CÂNDIDO HARTMANN</td>\n",
       "      <td>0</td>\n",
       "      <td>Perturbacão do sossego</td>\n",
       "      <td>NaN</td>\n",
       "      <td>NaN</td>\n",
       "      <td>...</td>\n",
       "      <td>19:05:00</td>\n",
       "      <td>3</td>\n",
       "      <td>NORMAL</td>\n",
       "      <td>153</td>\n",
       "      <td>SANTA FELICIDADE</td>\n",
       "      <td>SECRETARIA MUNICIPAL MEIO AMBIENTE</td>\n",
       "      <td>SMMA</td>\n",
       "      <td>NORMAL</td>\n",
       "      <td>Solicitacão</td>\n",
       "      <td>NaN</td>\n",
       "    </tr>\n",
       "    <tr>\n",
       "      <th>399686</th>\n",
       "      <td>2022</td>\n",
       "      <td>SÃO FRANCISCO</td>\n",
       "      <td>NaN</td>\n",
       "      <td>NÃO</td>\n",
       "      <td>NÃO</td>\n",
       "      <td>Garibaldi</td>\n",
       "      <td>0</td>\n",
       "      <td>Dano</td>\n",
       "      <td>NaN</td>\n",
       "      <td>NaN</td>\n",
       "      <td>...</td>\n",
       "      <td>15:51:00</td>\n",
       "      <td>5</td>\n",
       "      <td>NORMAL</td>\n",
       "      <td>156</td>\n",
       "      <td>MATRIZ</td>\n",
       "      <td>SECRETARIA MUNICIPAL MEIO AMBIENTE</td>\n",
       "      <td>SMMA</td>\n",
       "      <td>NORMAL</td>\n",
       "      <td>Solicitacão</td>\n",
       "      <td>9493488</td>\n",
       "    </tr>\n",
       "    <tr>\n",
       "      <th>262064</th>\n",
       "      <td>2019</td>\n",
       "      <td>JARDIM BOTÂNICO</td>\n",
       "      <td>TERMINAL RODOFERROVIÁRIO DE CURITBA</td>\n",
       "      <td>SIM</td>\n",
       "      <td>NÃO</td>\n",
       "      <td>PRES. AFFONSO CAMARGO</td>\n",
       "      <td>0</td>\n",
       "      <td>Atitude Suspeita (Abordagem)</td>\n",
       "      <td>NaN</td>\n",
       "      <td>NaN</td>\n",
       "      <td>...</td>\n",
       "      <td>11:05:00</td>\n",
       "      <td>12</td>\n",
       "      <td>NORMAL</td>\n",
       "      <td>IMEDIATA</td>\n",
       "      <td>MATRIZ</td>\n",
       "      <td>SECRETARIA MUNICIPAL DE DEFESA SOCIAL E TRANSITO</td>\n",
       "      <td>SMDT</td>\n",
       "      <td>GPEO</td>\n",
       "      <td>Deslocamento</td>\n",
       "      <td>NaN</td>\n",
       "    </tr>\n",
       "  </tbody>\n",
       "</table>\n",
       "<p>10 rows × 35 columns</p>\n",
       "</div>"
      ],
      "text/plain": [
       "       ATENDIMENTO_ANO ATENDIMENTO_BAIRRO_NOME  \\\n",
       "270245            2020                  CENTRO   \n",
       "24383             2009           SÍTIO CERCADO   \n",
       "44502             2010                   XAXIM   \n",
       "193363            2017              ÁGUA VERDE   \n",
       "373556            2021                  CENTRO   \n",
       "65970             2011        CAMPO DE SANTANA   \n",
       "166752            2016                  TABOÃO   \n",
       "169494            2016            SANTO INÁCIO   \n",
       "399686            2022           SÃO FRANCISCO   \n",
       "262064            2019         JARDIM BOTÂNICO   \n",
       "\n",
       "                                  EQUIPAMENTO_URBANO_NOME  \\\n",
       "270245                                                NaN   \n",
       "24383                                                 NaN   \n",
       "44502                                                 NaN   \n",
       "193363                                                NaN   \n",
       "373556                                                NaN   \n",
       "65970   CENTRO MUNICIPAL DE EDUCAcÃO INFANTIL DONA BERTHA   \n",
       "166752                                      PARQUE TANGUÁ   \n",
       "169494                                     PARQUE BARIGUI   \n",
       "399686                                                NaN   \n",
       "262064                TERMINAL RODOFERROVIÁRIO DE CURITBA   \n",
       "\n",
       "       FLAG_EQUIPAMENTO_URBANO FLAG_FLAGRANTE        LOGRADOURO_NOME  \\\n",
       "270245                     NÃO            NÃO       PRESIDENTE FARIA   \n",
       "24383                      NÃO            NÃO         TIJUCAS DO SUL   \n",
       "44502                      NÃO            NÃO           PEDRO WIELER   \n",
       "193363                     NÃO            NÃO      BRIGADEIRO FRANCO   \n",
       "373556                     NÃO            NÃO       NESTOR DE CASTRO   \n",
       "65970                      SIM            NÃO   PIA LAZZARI BERTOLDI   \n",
       "166752                     SIM            NÃO         OSWALDO MACIEL   \n",
       "169494                     SIM            NÃO       CÂNDIDO HARTMANN   \n",
       "399686                     NÃO            NÃO              Garibaldi   \n",
       "262064                     SIM            NÃO  PRES. AFFONSO CAMARGO   \n",
       "\n",
       "       NATUREZA1_DEFESA_CIVIL  \\\n",
       "270245                      0   \n",
       "24383                       0   \n",
       "44502                       0   \n",
       "193363                      0   \n",
       "373556                      0   \n",
       "65970                       0   \n",
       "166752                      0   \n",
       "169494                      0   \n",
       "399686                      0   \n",
       "262064                      0   \n",
       "\n",
       "                                    NATUREZA1_DESCRICAO  \\\n",
       "270245  Violacão de Medida Protetiva Lei Maria da Penha   \n",
       "24383                                           Alarmes   \n",
       "44502                                           Animais   \n",
       "193363                                        Tentativa   \n",
       "373556                     Atitude Suspeita (Abordagem)   \n",
       "65970                                              Dano   \n",
       "166752                                          Veículo   \n",
       "169494                           Perturbacão do sossego   \n",
       "399686                                             Dano   \n",
       "262064                     Atitude Suspeita (Abordagem)   \n",
       "\n",
       "       NATUREZA2_DEFESA_CIVIL NATUREZA2_DESCRICAO  ... OCORRENCIA_HORA  \\\n",
       "270245                    NaN                 NaN  ...        23:40:00   \n",
       "24383                     NaN                 NaN  ...        23:05:00   \n",
       "44502                     NaN                 NaN  ...        08:42:00   \n",
       "193363                      0               Apoio  ...        17:30:00   \n",
       "373556                    NaN                 NaN  ...        10:30:00   \n",
       "65970                     NaN                 NaN  ...        19:20:00   \n",
       "166752                    NaN                 NaN  ...        08:41:00   \n",
       "169494                    NaN                 NaN  ...        19:05:00   \n",
       "399686                    NaN                 NaN  ...        15:51:00   \n",
       "262064                    NaN                 NaN  ...        11:05:00   \n",
       "\n",
       "       OCORRENCIA_MES OPERACAO_DESCRICAO     ORIGEM_CHAMADO_DESCRICAO  \\\n",
       "270245              2             NORMAL                     IMEDIATA   \n",
       "24383              12                NaN  NÃO CADASTRAR \"ANTIGO SIGA\"   \n",
       "44502              11                NaN                          156   \n",
       "193363              5             NORMAL                         FONE   \n",
       "373556             10             NORMAL                     IMEDIATA   \n",
       "65970              11                NaN                          153   \n",
       "166752              2             NORMAL                     IMEDIATA   \n",
       "169494              3             NORMAL                          153   \n",
       "399686              5             NORMAL                          156   \n",
       "262064             12             NORMAL                     IMEDIATA   \n",
       "\n",
       "       REGIONAL_FATO_NOME                                   SECRETARIA_NOME  \\\n",
       "270245             MATRIZ  SECRETARIA MUNICIPAL DE DEFESA SOCIAL E TRANSITO   \n",
       "24383         BAIRRO NOVO                           FUNDAcÃO DE AcÃO SOCIAL   \n",
       "44502           BOQUEIRÃO                     SECRETARIA MUNICIPAL DA SAÚDE   \n",
       "193363             PORTÃO  SECRETARIA MUNICIPAL DE DEFESA SOCIAL E TRANSITO   \n",
       "373556             MATRIZ  SECRETARIA MUNICIPAL DE DEFESA SOCIAL E TRANSITO   \n",
       "65970         PINHEIRINHO                  SECRETARIA MUNICIPAL DA EDUCAcÃO   \n",
       "166752          BOA VISTA  SECRETARIA MUNICIPAL DE DEFESA SOCIAL E TRANSITO   \n",
       "169494   SANTA FELICIDADE                SECRETARIA MUNICIPAL MEIO AMBIENTE   \n",
       "399686             MATRIZ                SECRETARIA MUNICIPAL MEIO AMBIENTE   \n",
       "262064             MATRIZ  SECRETARIA MUNICIPAL DE DEFESA SOCIAL E TRANSITO   \n",
       "\n",
       "       SECRETARIA_SIGLA             SERVICO_NOME SITUACAO_EQUIPE_DESCRICAO  \\\n",
       "270245             SMDT  PATRULHA MARIA DA PENHA               Solicitacão   \n",
       "24383               FAS                     SIGA                       NaN   \n",
       "44502               SMS                   NORMAL                       NaN   \n",
       "193363             SMDT                      GOE               Solicitacão   \n",
       "373556             SMDT                     GPEO               Solicitacão   \n",
       "65970               SME                   NORMAL                       NaN   \n",
       "166752             SMDT                   NORMAL               Solicitacão   \n",
       "169494             SMMA                   NORMAL               Solicitacão   \n",
       "399686             SMMA                   NORMAL               Solicitacão   \n",
       "262064             SMDT                     GPEO              Deslocamento   \n",
       "\n",
       "       NUMERO_PROTOCOLO_156  \n",
       "270245                  NaN  \n",
       "24383                   NaN  \n",
       "44502               3531839  \n",
       "193363                  NaN  \n",
       "373556                  NaN  \n",
       "65970                   NaN  \n",
       "166752                  NaN  \n",
       "169494                  NaN  \n",
       "399686              9493488  \n",
       "262064                  NaN  \n",
       "\n",
       "[10 rows x 35 columns]"
      ]
     },
     "execution_count": 5,
     "metadata": {},
     "output_type": "execute_result"
    }
   ],
   "source": [
    "df.sample(10)"
   ]
  },
  {
   "cell_type": "code",
   "execution_count": 6,
   "id": "87027c95",
   "metadata": {
    "scrolled": true
   },
   "outputs": [
    {
     "data": {
      "text/plain": [
       "ATENDIMENTO_ANO              object\n",
       "ATENDIMENTO_BAIRRO_NOME      object\n",
       "EQUIPAMENTO_URBANO_NOME      object\n",
       "FLAG_EQUIPAMENTO_URBANO      object\n",
       "FLAG_FLAGRANTE               object\n",
       "LOGRADOURO_NOME              object\n",
       "NATUREZA1_DEFESA_CIVIL       object\n",
       "NATUREZA1_DESCRICAO          object\n",
       "NATUREZA2_DEFESA_CIVIL       object\n",
       "NATUREZA2_DESCRICAO          object\n",
       "NATUREZA3_DEFESA_CIVIL       object\n",
       "NATUREZA3_DESCRICAO          object\n",
       "NATUREZA4_DEFESA_CIVIL       object\n",
       "NATUREZA4_DESCRICAO          object\n",
       "NATUREZA5_DEFESA_CIVIL       object\n",
       "NATUREZA5_DESCRICAO          object\n",
       "SUBCATEGORIA1_DESCRICAO      object\n",
       "SUBCATEGORIA2_DESCRICAO      object\n",
       "SUBCATEGORIA3_DESCRICAO      object\n",
       "SUBCATEGORIA4_DESCRICAO      object\n",
       "SUBCATEGORIA5_DESCRICAO      object\n",
       "OCORRENCIA_ANO               object\n",
       "OCORRENCIA_CODIGO            object\n",
       "OCORRENCIA_DATA              object\n",
       "OCORRENCIA_DIA_SEMANA        object\n",
       "OCORRENCIA_HORA              object\n",
       "OCORRENCIA_MES               object\n",
       "OPERACAO_DESCRICAO           object\n",
       "ORIGEM_CHAMADO_DESCRICAO     object\n",
       "REGIONAL_FATO_NOME           object\n",
       "SECRETARIA_NOME              object\n",
       "SECRETARIA_SIGLA             object\n",
       "SERVICO_NOME                 object\n",
       "SITUACAO_EQUIPE_DESCRICAO    object\n",
       "NUMERO_PROTOCOLO_156         object\n",
       "dtype: object"
      ]
     },
     "execution_count": 6,
     "metadata": {},
     "output_type": "execute_result"
    }
   ],
   "source": [
    "# Verificando Dados\n",
    "df.dtypes"
   ]
  },
  {
   "cell_type": "code",
   "execution_count": 7,
   "id": "05cca93e",
   "metadata": {},
   "outputs": [],
   "source": [
    "# Remoção de colunas \n",
    "\n",
    "df2 = df.drop(['EQUIPAMENTO_URBANO_NOME','FLAG_EQUIPAMENTO_URBANO','LOGRADOURO_NOME','NATUREZA2_DEFESA_CIVIL','NATUREZA2_DESCRICAO',\n",
    "'NATUREZA3_DEFESA_CIVIL','NATUREZA3_DESCRICAO','NATUREZA4_DEFESA_CIVIL','NATUREZA4_DESCRICAO','NATUREZA5_DEFESA_CIVIL','NATUREZA5_DESCRICAO',\n",
    "'SUBCATEGORIA1_DESCRICAO','SUBCATEGORIA2_DESCRICAO','SUBCATEGORIA3_DESCRICAO','SUBCATEGORIA4_DESCRICAO','SUBCATEGORIA5_DESCRICAO',\n",
    "'SECRETARIA_NOME','SECRETARIA_SIGLA','SERVICO_NOME','SITUACAO_EQUIPE_DESCRICAO', 'NUMERO_PROTOCOLO_156', 'OPERACAO_DESCRICAO'], axis=1)\n",
    "\n"
   ]
  },
  {
   "cell_type": "code",
   "execution_count": 8,
   "id": "0d97cfa8",
   "metadata": {},
   "outputs": [
    {
     "data": {
      "text/plain": [
       "ATENDIMENTO_ANO             406908\n",
       "ATENDIMENTO_BAIRRO_NOME     406833\n",
       "FLAG_FLAGRANTE              406978\n",
       "NATUREZA1_DEFESA_CIVIL      406978\n",
       "NATUREZA1_DESCRICAO         406978\n",
       "OCORRENCIA_ANO              406978\n",
       "OCORRENCIA_CODIGO           406978\n",
       "OCORRENCIA_DATA             406978\n",
       "OCORRENCIA_DIA_SEMANA       406978\n",
       "OCORRENCIA_HORA             406978\n",
       "OCORRENCIA_MES              406978\n",
       "ORIGEM_CHAMADO_DESCRICAO    406978\n",
       "REGIONAL_FATO_NOME          406967\n",
       "dtype: int64"
      ]
     },
     "execution_count": 8,
     "metadata": {},
     "output_type": "execute_result"
    }
   ],
   "source": [
    "df2.count()"
   ]
  },
  {
   "cell_type": "code",
   "execution_count": 9,
   "id": "0a16d665",
   "metadata": {},
   "outputs": [
    {
     "data": {
      "text/plain": [
       "ATENDIMENTO_ANO              70\n",
       "ATENDIMENTO_BAIRRO_NOME     145\n",
       "FLAG_FLAGRANTE                0\n",
       "NATUREZA1_DEFESA_CIVIL        0\n",
       "NATUREZA1_DESCRICAO           0\n",
       "OCORRENCIA_ANO                0\n",
       "OCORRENCIA_CODIGO             0\n",
       "OCORRENCIA_DATA               0\n",
       "OCORRENCIA_DIA_SEMANA         0\n",
       "OCORRENCIA_HORA               0\n",
       "OCORRENCIA_MES                0\n",
       "ORIGEM_CHAMADO_DESCRICAO      0\n",
       "REGIONAL_FATO_NOME           11\n",
       "dtype: int64"
      ]
     },
     "execution_count": 9,
     "metadata": {},
     "output_type": "execute_result"
    }
   ],
   "source": [
    "#Consultando linhas com valores faltantes\n",
    "df2.isnull().sum()"
   ]
  },
  {
   "cell_type": "code",
   "execution_count": 10,
   "id": "2d9a20ef",
   "metadata": {},
   "outputs": [],
   "source": [
    "#Removendo linhas nulas. Por se tratar de poucas linhas nulas, elas foram removidas.\n",
    "df3 = df2.dropna()"
   ]
  },
  {
   "cell_type": "code",
   "execution_count": 11,
   "id": "1a2f8b0e",
   "metadata": {},
   "outputs": [
    {
     "data": {
      "text/plain": [
       "ATENDIMENTO_ANO             0\n",
       "ATENDIMENTO_BAIRRO_NOME     0\n",
       "FLAG_FLAGRANTE              0\n",
       "NATUREZA1_DEFESA_CIVIL      0\n",
       "NATUREZA1_DESCRICAO         0\n",
       "OCORRENCIA_ANO              0\n",
       "OCORRENCIA_CODIGO           0\n",
       "OCORRENCIA_DATA             0\n",
       "OCORRENCIA_DIA_SEMANA       0\n",
       "OCORRENCIA_HORA             0\n",
       "OCORRENCIA_MES              0\n",
       "ORIGEM_CHAMADO_DESCRICAO    0\n",
       "REGIONAL_FATO_NOME          0\n",
       "dtype: int64"
      ]
     },
     "execution_count": 11,
     "metadata": {},
     "output_type": "execute_result"
    }
   ],
   "source": [
    "df3.isnull().sum()"
   ]
  },
  {
   "cell_type": "code",
   "execution_count": 12,
   "id": "3ed39bf6",
   "metadata": {},
   "outputs": [
    {
     "data": {
      "text/plain": [
       "406763"
      ]
     },
     "execution_count": 12,
     "metadata": {},
     "output_type": "execute_result"
    }
   ],
   "source": [
    "#Total de Ocorrências\n",
    "df3['OCORRENCIA_CODIGO'].count()"
   ]
  },
  {
   "cell_type": "markdown",
   "id": "506c6f22",
   "metadata": {},
   "source": [
    "## DATAS"
   ]
  },
  {
   "cell_type": "code",
   "execution_count": 13,
   "id": "232dc452",
   "metadata": {},
   "outputs": [
    {
     "data": {
      "text/plain": [
       "0        2009-01-01 15:14:00\n",
       "1        2009-01-01 15:22:00\n",
       "2        2009-01-01 15:59:00\n",
       "3        2009-01-01 16:13:00\n",
       "4        2009-01-01 16:29:00\n",
       "                 ...        \n",
       "406973   2022-07-01 00:42:00\n",
       "406974   2022-07-01 00:45:00\n",
       "406975   2022-06-30 23:40:00\n",
       "406976   2022-07-01 00:45:00\n",
       "406977   2022-07-01 01:49:00\n",
       "Name: OCORRENCIA_DATA, Length: 406763, dtype: datetime64[ns]"
      ]
     },
     "execution_count": 13,
     "metadata": {},
     "output_type": "execute_result"
    }
   ],
   "source": [
    "#Transformando coluna de data em data\n",
    "pd.to_datetime(df3[\"OCORRENCIA_DATA\"])"
   ]
  },
  {
   "cell_type": "code",
   "execution_count": 14,
   "id": "31b831e5",
   "metadata": {},
   "outputs": [
    {
     "data": {
      "text/plain": [
       "ATENDIMENTO_ANO             object\n",
       "ATENDIMENTO_BAIRRO_NOME     object\n",
       "FLAG_FLAGRANTE              object\n",
       "NATUREZA1_DEFESA_CIVIL      object\n",
       "NATUREZA1_DESCRICAO         object\n",
       "OCORRENCIA_ANO              object\n",
       "OCORRENCIA_CODIGO           object\n",
       "OCORRENCIA_DATA             object\n",
       "OCORRENCIA_DIA_SEMANA       object\n",
       "OCORRENCIA_HORA             object\n",
       "OCORRENCIA_MES              object\n",
       "ORIGEM_CHAMADO_DESCRICAO    object\n",
       "REGIONAL_FATO_NOME          object\n",
       "dtype: object"
      ]
     },
     "execution_count": 14,
     "metadata": {},
     "output_type": "execute_result"
    }
   ],
   "source": [
    "df3.dtypes"
   ]
  },
  {
   "cell_type": "code",
   "execution_count": 15,
   "id": "5de4c326",
   "metadata": {},
   "outputs": [
    {
     "data": {
      "text/plain": [
       "OCORRENCIA_ANO\n",
       "2009    24898\n",
       "2010    22517\n",
       "2011    21458\n",
       "2012    19759\n",
       "2013    24452\n",
       "2014    25265\n",
       "2015    25539\n",
       "2016    21456\n",
       "2017    22136\n",
       "2018    24153\n",
       "2019    33762\n",
       "2020    57449\n",
       "2021    58730\n",
       "2022    25189\n",
       "Name: OCORRENCIA_CODIGO, dtype: int64"
      ]
     },
     "execution_count": 15,
     "metadata": {},
     "output_type": "execute_result"
    }
   ],
   "source": [
    "#OCORRÊNCIAS POR ANO\n",
    "df3.groupby(df3[\"OCORRENCIA_ANO\"])[\"OCORRENCIA_CODIGO\"].count()"
   ]
  },
  {
   "cell_type": "code",
   "execution_count": 16,
   "id": "fac97b13",
   "metadata": {},
   "outputs": [],
   "source": [
    "#Escolhendo estilo do gráfico matplotlib\n",
    "plt.style.use(\"ggplot\")"
   ]
  },
  {
   "cell_type": "code",
   "execution_count": 17,
   "id": "59cd8ca7",
   "metadata": {},
   "outputs": [
    {
     "data": {
      "image/png": "[encoded data removed]",
      "text/plain": [
       "<Figure size 432x288 with 1 Axes>"
      ]
     },
     "metadata": {},
     "output_type": "display_data"
    }
   ],
   "source": [
    "#Gráfico\n",
    "df3.groupby(df3[\"OCORRENCIA_ANO\"])[\"OCORRENCIA_CODIGO\"].count().plot(title = \"Total de Ocorrências x Mês\") #agrupou por mês da ocorrência\n",
    "plt.xlabel(\"Mês\")\n",
    "plt.ylabel(\"Total de Ocorrências\");"
   ]
  },
  {
   "cell_type": "markdown",
   "id": "97b30486",
   "metadata": {},
   "source": [
    "## FLAGRANTES"
   ]
  },
  {
   "cell_type": "code",
   "execution_count": 18,
   "id": "2d24936f",
   "metadata": {},
   "outputs": [],
   "source": [
    "#selecionando ocorrências com flagrante\n",
    "\n",
    "df3_flagrante = df3[df3[\"FLAG_FLAGRANTE\"] == 'SIM']\n",
    "\n",
    "#Selecionando ocorrências sem flagrante\n",
    "df3_nflagrante = df3[df3[\"FLAG_FLAGRANTE\"] == 'NÃO']"
   ]
  },
  {
   "cell_type": "code",
   "execution_count": 19,
   "id": "c538f130",
   "metadata": {},
   "outputs": [
    {
     "data": {
      "text/html": [
       "<div>\n",
       "<style scoped>\n",
       "    .dataframe tbody tr th:only-of-type {\n",
       "        vertical-align: middle;\n",
       "    }\n",
       "\n",
       "    .dataframe tbody tr th {\n",
       "        vertical-align: top;\n",
       "    }\n",
       "\n",
       "    .dataframe thead th {\n",
       "        text-align: right;\n",
       "    }\n",
       "</style>\n",
       "<table border=\"1\" class=\"dataframe\">\n",
       "  <thead>\n",
       "    <tr style=\"text-align: right;\">\n",
       "      <th></th>\n",
       "      <th>ATENDIMENTO_ANO</th>\n",
       "      <th>ATENDIMENTO_BAIRRO_NOME</th>\n",
       "      <th>FLAG_FLAGRANTE</th>\n",
       "      <th>NATUREZA1_DEFESA_CIVIL</th>\n",
       "      <th>NATUREZA1_DESCRICAO</th>\n",
       "      <th>OCORRENCIA_ANO</th>\n",
       "      <th>OCORRENCIA_CODIGO</th>\n",
       "      <th>OCORRENCIA_DATA</th>\n",
       "      <th>OCORRENCIA_DIA_SEMANA</th>\n",
       "      <th>OCORRENCIA_HORA</th>\n",
       "      <th>OCORRENCIA_MES</th>\n",
       "      <th>ORIGEM_CHAMADO_DESCRICAO</th>\n",
       "      <th>REGIONAL_FATO_NOME</th>\n",
       "    </tr>\n",
       "  </thead>\n",
       "  <tbody>\n",
       "    <tr>\n",
       "      <th>232697</th>\n",
       "      <td>2019</td>\n",
       "      <td>SANTA FELICIDADE</td>\n",
       "      <td>SIM</td>\n",
       "      <td>0</td>\n",
       "      <td>Violacão de Medida Protetiva Lei Maria da Penha</td>\n",
       "      <td>2019</td>\n",
       "      <td>233040</td>\n",
       "      <td>2019-01-14 18:40:00.000</td>\n",
       "      <td>SEGUNDA</td>\n",
       "      <td>18:40:00</td>\n",
       "      <td>1</td>\n",
       "      <td>153</td>\n",
       "      <td>SANTA FELICIDADE</td>\n",
       "    </tr>\n",
       "    <tr>\n",
       "      <th>74160</th>\n",
       "      <td>2012</td>\n",
       "      <td>JARDIM BOTÂNICO</td>\n",
       "      <td>SIM</td>\n",
       "      <td>0</td>\n",
       "      <td>Roubo</td>\n",
       "      <td>2012</td>\n",
       "      <td>74341</td>\n",
       "      <td>2012-04-01 11:20:00.000</td>\n",
       "      <td>DOMINGO</td>\n",
       "      <td>11:20:00</td>\n",
       "      <td>4</td>\n",
       "      <td>IMEDIATA</td>\n",
       "      <td>MATRIZ</td>\n",
       "    </tr>\n",
       "    <tr>\n",
       "      <th>137688</th>\n",
       "      <td>2014</td>\n",
       "      <td>CENTRO</td>\n",
       "      <td>SIM</td>\n",
       "      <td>0</td>\n",
       "      <td>Substância Ilícita</td>\n",
       "      <td>2014</td>\n",
       "      <td>137921</td>\n",
       "      <td>2014-12-19 14:33:00.000</td>\n",
       "      <td>SEXTA</td>\n",
       "      <td>14:33:00</td>\n",
       "      <td>12</td>\n",
       "      <td>IMEDIATA</td>\n",
       "      <td>MATRIZ</td>\n",
       "    </tr>\n",
       "    <tr>\n",
       "      <th>110875</th>\n",
       "      <td>2013</td>\n",
       "      <td>CAJURU</td>\n",
       "      <td>SIM</td>\n",
       "      <td>0</td>\n",
       "      <td>Dano</td>\n",
       "      <td>2013</td>\n",
       "      <td>111064</td>\n",
       "      <td>2013-11-26 17:38:00.000</td>\n",
       "      <td>TERcA</td>\n",
       "      <td>17:38:00</td>\n",
       "      <td>11</td>\n",
       "      <td>153</td>\n",
       "      <td>CAJURU</td>\n",
       "    </tr>\n",
       "    <tr>\n",
       "      <th>321278</th>\n",
       "      <td>2020</td>\n",
       "      <td>CENTRO</td>\n",
       "      <td>SIM</td>\n",
       "      <td>0</td>\n",
       "      <td>Lesão Corporal</td>\n",
       "      <td>2020</td>\n",
       "      <td>321656</td>\n",
       "      <td>2020-12-19 11:11:00.000</td>\n",
       "      <td>SÁBADO</td>\n",
       "      <td>11:11:00</td>\n",
       "      <td>12</td>\n",
       "      <td>IMEDIATA</td>\n",
       "      <td>MATRIZ</td>\n",
       "    </tr>\n",
       "  </tbody>\n",
       "</table>\n",
       "</div>"
      ],
      "text/plain": [
       "       ATENDIMENTO_ANO ATENDIMENTO_BAIRRO_NOME FLAG_FLAGRANTE  \\\n",
       "232697            2019        SANTA FELICIDADE            SIM   \n",
       "74160             2012         JARDIM BOTÂNICO            SIM   \n",
       "137688            2014                  CENTRO            SIM   \n",
       "110875            2013                  CAJURU            SIM   \n",
       "321278            2020                  CENTRO            SIM   \n",
       "\n",
       "       NATUREZA1_DEFESA_CIVIL  \\\n",
       "232697                      0   \n",
       "74160                       0   \n",
       "137688                      0   \n",
       "110875                      0   \n",
       "321278                      0   \n",
       "\n",
       "                                    NATUREZA1_DESCRICAO OCORRENCIA_ANO  \\\n",
       "232697  Violacão de Medida Protetiva Lei Maria da Penha           2019   \n",
       "74160                                             Roubo           2012   \n",
       "137688                               Substância Ilícita           2014   \n",
       "110875                                             Dano           2013   \n",
       "321278                                   Lesão Corporal           2020   \n",
       "\n",
       "       OCORRENCIA_CODIGO          OCORRENCIA_DATA OCORRENCIA_DIA_SEMANA  \\\n",
       "232697            233040  2019-01-14 18:40:00.000               SEGUNDA   \n",
       "74160              74341  2012-04-01 11:20:00.000               DOMINGO   \n",
       "137688            137921  2014-12-19 14:33:00.000                 SEXTA   \n",
       "110875            111064  2013-11-26 17:38:00.000                 TERcA   \n",
       "321278            321656  2020-12-19 11:11:00.000                SÁBADO   \n",
       "\n",
       "       OCORRENCIA_HORA OCORRENCIA_MES ORIGEM_CHAMADO_DESCRICAO  \\\n",
       "232697        18:40:00              1                      153   \n",
       "74160         11:20:00              4                 IMEDIATA   \n",
       "137688        14:33:00             12                 IMEDIATA   \n",
       "110875        17:38:00             11                      153   \n",
       "321278        11:11:00             12                 IMEDIATA   \n",
       "\n",
       "       REGIONAL_FATO_NOME  \n",
       "232697   SANTA FELICIDADE  \n",
       "74160              MATRIZ  \n",
       "137688             MATRIZ  \n",
       "110875             CAJURU  \n",
       "321278             MATRIZ  "
      ]
     },
     "execution_count": 19,
     "metadata": {},
     "output_type": "execute_result"
    }
   ],
   "source": [
    "df3_flagrante.sample(5)"
   ]
  },
  {
   "cell_type": "code",
   "execution_count": 20,
   "id": "26723090",
   "metadata": {},
   "outputs": [
    {
     "data": {
      "image/png": "[encoded data removed]",
      "text/plain": [
       "<Figure size 432x288 with 1 Axes>"
      ]
     },
     "metadata": {},
     "output_type": "display_data"
    }
   ],
   "source": [
    "#Gráfico de Pizza\n",
    "df3.groupby(df3[\"FLAG_FLAGRANTE\"])[\"OCORRENCIA_CODIGO\"].count().plot.pie(); #ocorrencias com flagrantes"
   ]
  },
  {
   "cell_type": "code",
   "execution_count": 21,
   "id": "a688edc5",
   "metadata": {},
   "outputs": [
    {
     "data": {
      "image/png": "[encoded data removed]",
      "text/plain": [
       "<Figure size 432x288 with 1 Axes>"
      ]
     },
     "metadata": {},
     "output_type": "display_data"
    }
   ],
   "source": [
    "#FLAGRANTE POR REGIONAL\n",
    "df3_flagrante.groupby(\"REGIONAL_FATO_NOME\")[\"FLAG_FLAGRANTE\"].count().plot.barh(title=\"Flagrantes x Regional\")\n",
    "plt.xlabel(\"Ocorrências\")\n",
    "plt.ylabel(\"Regional\")\n",
    "plt.xticks(rotation='horizontal');"
   ]
  },
  {
   "cell_type": "code",
   "execution_count": 22,
   "id": "c636d7ec",
   "metadata": {},
   "outputs": [],
   "source": [
    "#REMOVENDO A REGIÃO METROPOLITANA\n",
    "df3_flagrante = df3_flagrante[df3_flagrante[\"REGIONAL_FATO_NOME\"] != 'REGIÃO METROPOLITANA']\n",
    "\n",
    "#outra forma de remover\n",
    "#indexNames = df3_flagrante[ df3_flagrante['REGIONAL_FATO_NOME'] == 'CIC' ].index\n",
    "#df3_flagrante.drop(indexNames , inplace=True)"
   ]
  },
  {
   "cell_type": "code",
   "execution_count": 23,
   "id": "4a0c7a79",
   "metadata": {},
   "outputs": [
    {
     "data": {
      "image/png": "[encoded data removed]",
      "text/plain": [
       "<Figure size 432x288 with 1 Axes>"
      ]
     },
     "metadata": {},
     "output_type": "display_data"
    }
   ],
   "source": [
    "df3_flagrante.groupby(\"REGIONAL_FATO_NOME\")[\"FLAG_FLAGRANTE\"].count().plot.barh(title=\"Flagrantes x Regional\")\n",
    "plt.xlabel(\"Ocorrências\")\n",
    "plt.ylabel(\"Regional\")\n",
    "plt.xticks(rotation='horizontal');"
   ]
  },
  {
   "cell_type": "markdown",
   "id": "2406dd68",
   "metadata": {},
   "source": [
    "## DIAS"
   ]
  },
  {
   "cell_type": "code",
   "execution_count": 27,
   "id": "bc05cfd3",
   "metadata": {},
   "outputs": [
    {
     "data": {
      "text/plain": [
       "count       406763\n",
       "unique        1440\n",
       "top       15:00:00\n",
       "freq          2811\n",
       "Name: OCORRENCIA_HORA, dtype: object"
      ]
     },
     "execution_count": 27,
     "metadata": {},
     "output_type": "execute_result"
    }
   ],
   "source": [
    "df3[\"OCORRENCIA_HORA\"].describe() \n"
   ]
  },
  {
   "cell_type": "code",
   "execution_count": 29,
   "id": "777dc6cf",
   "metadata": {},
   "outputs": [
    {
     "data": {
      "text/plain": [
       "count     406763\n",
       "unique         7\n",
       "top       SÁBADO\n",
       "freq       65876\n",
       "Name: OCORRENCIA_DIA_SEMANA, dtype: object"
      ]
     },
     "execution_count": 29,
     "metadata": {},
     "output_type": "execute_result"
    }
   ],
   "source": [
    "df3[\"OCORRENCIA_DIA_SEMANA\"].describe()"
   ]
  },
  {
   "cell_type": "code",
   "execution_count": 42,
   "id": "fe11ad71",
   "metadata": {},
   "outputs": [
    {
     "data": {
      "image/png": "[encoded data removed]",
      "text/plain": [
       "<Figure size 432x288 with 1 Axes>"
      ]
     },
     "metadata": {},
     "output_type": "display_data"
    }
   ],
   "source": [
    "df3.groupby(\"OCORRENCIA_DIA_SEMANA\")[\"OCORRENCIA_CODIGO\"].count().plot.bar(title=\"Ocorrências x Dia da Semana\")\n",
    "plt.xlabel(\"Dia da Semana\")\n",
    "plt.ylabel(\"Ocorrências\")\n",
    "plt.xticks(rotation='horizontal');"
   ]
  },
  {
   "cell_type": "markdown",
   "id": "38348912",
   "metadata": {},
   "source": [
    "### CRIMES"
   ]
  },
  {
   "cell_type": "code",
   "execution_count": 43,
   "id": "12bfe11c",
   "metadata": {},
   "outputs": [
    {
     "data": {
      "text/plain": [
       "count     406763\n",
       "unique       186\n",
       "top        Apoio\n",
       "freq       65156\n",
       "Name: NATUREZA1_DESCRICAO, dtype: object"
      ]
     },
     "execution_count": 43,
     "metadata": {},
     "output_type": "execute_result"
    }
   ],
   "source": [
    "df3[\"NATUREZA1_DESCRICAO\"].describe()"
   ]
  },
  {
   "cell_type": "code",
   "execution_count": 64,
   "id": "bb969cd1",
   "metadata": {},
   "outputs": [],
   "source": [
    "df3_top5 = df3.groupby(\"NATUREZA1_DESCRICAO\")[\"OCORRENCIA_CODIGO\"].count().reset_index()"
   ]
  },
  {
   "cell_type": "code",
   "execution_count": 65,
   "id": "e6d1226b",
   "metadata": {},
   "outputs": [
    {
     "data": {
      "text/html": [
       "<div>\n",
       "<style scoped>\n",
       "    .dataframe tbody tr th:only-of-type {\n",
       "        vertical-align: middle;\n",
       "    }\n",
       "\n",
       "    .dataframe tbody tr th {\n",
       "        vertical-align: top;\n",
       "    }\n",
       "\n",
       "    .dataframe thead th {\n",
       "        text-align: right;\n",
       "    }\n",
       "</style>\n",
       "<table border=\"1\" class=\"dataframe\">\n",
       "  <thead>\n",
       "    <tr style=\"text-align: right;\">\n",
       "      <th></th>\n",
       "      <th>NATUREZA1_DESCRICAO</th>\n",
       "      <th>OCORRENCIA_CODIGO</th>\n",
       "    </tr>\n",
       "  </thead>\n",
       "  <tbody>\n",
       "    <tr>\n",
       "      <th>15</th>\n",
       "      <td>Apoio</td>\n",
       "      <td>65156</td>\n",
       "    </tr>\n",
       "    <tr>\n",
       "      <th>24</th>\n",
       "      <td>Atitude Suspeita (Abordagem)</td>\n",
       "      <td>41606</td>\n",
       "    </tr>\n",
       "    <tr>\n",
       "      <th>49</th>\n",
       "      <td>Dano</td>\n",
       "      <td>37234</td>\n",
       "    </tr>\n",
       "    <tr>\n",
       "      <th>167</th>\n",
       "      <td>Trânsito</td>\n",
       "      <td>29181</td>\n",
       "    </tr>\n",
       "    <tr>\n",
       "      <th>115</th>\n",
       "      <td>Orientacão</td>\n",
       "      <td>26115</td>\n",
       "    </tr>\n",
       "  </tbody>\n",
       "</table>\n",
       "</div>"
      ],
      "text/plain": [
       "              NATUREZA1_DESCRICAO  OCORRENCIA_CODIGO\n",
       "15                          Apoio              65156\n",
       "24   Atitude Suspeita (Abordagem)              41606\n",
       "49                           Dano              37234\n",
       "167                      Trânsito              29181\n",
       "115                    Orientacão              26115"
      ]
     },
     "execution_count": 65,
     "metadata": {},
     "output_type": "execute_result"
    }
   ],
   "source": [
    "df3_top5.sort_values('OCORRENCIA_CODIGO', ascending=False).head(5)"
   ]
  }
 ],
 "metadata": {
  "kernelspec": {
   "display_name": "Python 3 (ipykernel)",
   "language": "python",
   "name": "python3"
  },
  "language_info": {
   "codemirror_mode": {
    "name": "ipython",
    "version": 3
   },
   "file_extension": ".py",
   "mimetype": "text/x-python",
   "name": "python",
   "nbconvert_exporter": "python",
   "pygments_lexer": "ipython3",
   "version": "3.9.12"
  }
 },
 "nbformat": 4,
 "nbformat_minor": 5
}
